{
 "cells": [
  {
   "cell_type": "markdown",
   "id": "c5e7f46a",
   "metadata": {},
   "source": [
    "## Question 1"
   ]
  },
  {
   "cell_type": "code",
   "execution_count": 1,
   "id": "efbf88fe",
   "metadata": {},
   "outputs": [],
   "source": [
    "# DataBase-an organized collection of data and information or interrelated data collected at one place.\n",
    "# SQL-Relational Database\n",
    "# NOSQL-Non Relational or Distributed Database"
   ]
  },
  {
   "cell_type": "markdown",
   "id": "023c820b",
   "metadata": {},
   "source": [
    "## Question 2"
   ]
  },
  {
   "cell_type": "code",
   "execution_count": 2,
   "id": "de57aa55",
   "metadata": {},
   "outputs": [],
   "source": [
    "# DDL-Data Definition Language\n",
    "\n",
    "# CREATE-used to create Database,Table\n",
    "##CREATE DATABASE temp;\n",
    "\n",
    "# DROP-used to delete whole database or table\n",
    "##DROP DATABASE temp;\n",
    "\n",
    "# ALTER-used to add, delete, or modify columns in an existing table.\n",
    "##ALTER TABLE Customers ADD Email varchar(255);\n",
    "\n",
    "#TRUNCATE-Delete all data inside the table\n",
    "##TRUNCATE TABLE table1;"
   ]
  },
  {
   "cell_type": "markdown",
   "id": "f2afef83",
   "metadata": {},
   "source": [
    "## Question 3"
   ]
  },
  {
   "cell_type": "code",
   "execution_count": 3,
   "id": "a116d017",
   "metadata": {},
   "outputs": [],
   "source": [
    "# DML-Data Manipulation Language\n",
    "\n",
    "# INSERT-used to insert values into the table\n",
    "##INSERT INTO table1 VALUES(2,'sai');\n",
    "\n",
    "#UPDATE-used to modify existing tables\n",
    "##UPDATE table1 SET name='sachin' WHERE age=19;\n",
    "\n",
    "#DELETE-used to remove existing records from database tables\n",
    "##DELETE FROM table1 WHERE age=19;"
   ]
  },
  {
   "cell_type": "markdown",
   "id": "7b713bc3",
   "metadata": {},
   "source": [
    "## Question 4"
   ]
  },
  {
   "cell_type": "code",
   "execution_count": 4,
   "id": "5642fc3a",
   "metadata": {},
   "outputs": [],
   "source": [
    "#DQL-Data Query Language\n",
    "\n",
    "#SELECT-used to display the records in tha table\n",
    "##SELECT * FROM table1;"
   ]
  },
  {
   "cell_type": "markdown",
   "id": "487d694f",
   "metadata": {},
   "source": [
    "## Question 5"
   ]
  },
  {
   "cell_type": "code",
   "execution_count": 5,
   "id": "0b18774d",
   "metadata": {},
   "outputs": [],
   "source": [
    "# PRIMARY KEY-identifies each record in the table\n",
    "# FOREIGN KEY-used to link two tables together"
   ]
  },
  {
   "cell_type": "markdown",
   "id": "f043bc9c",
   "metadata": {},
   "source": [
    "## Question 6"
   ]
  },
  {
   "cell_type": "code",
   "execution_count": 8,
   "id": "e2d8bfb1",
   "metadata": {},
   "outputs": [],
   "source": [
    "import mysql.connector\n",
    "mydb=mysql.connector.connect(\n",
    "    host='localhost',\n",
    "    user='sqluser',\n",
    "    password='password'\n",
    ")\n",
    "#cursor()-used to create object for database so that we can execute commands\n",
    "cur=mydb.cursor()\n",
    "#execute()-used to execute SQL commands\n",
    "cur.execute('CREATE DATABASE temp1')\n",
    "cur.close()"
   ]
  },
  {
   "cell_type": "markdown",
   "id": "518a90cd",
   "metadata": {},
   "source": [
    "## Question 7"
   ]
  },
  {
   "cell_type": "code",
   "execution_count": 9,
   "id": "7ed9052e",
   "metadata": {},
   "outputs": [],
   "source": [
    "# 1.FROM clause\n",
    "# 2.ON clause\n",
    "# 3.OUTER clause\n",
    "# 4.WHERE clause\n",
    "# 5.GROUP BY clause\n",
    "# 6.HAVING clause\n",
    "# 7.SELECT clause\n",
    "# 8.DISTINCT clause\n",
    "# 9.ORDER BY clause\n",
    "# 10.TOP clause"
   ]
  }
 ],
 "metadata": {
  "kernelspec": {
   "display_name": "Python 3 (ipykernel)",
   "language": "python",
   "name": "python3"
  },
  "language_info": {
   "codemirror_mode": {
    "name": "ipython",
    "version": 3
   },
   "file_extension": ".py",
   "mimetype": "text/x-python",
   "name": "python",
   "nbconvert_exporter": "python",
   "pygments_lexer": "ipython3",
   "version": "3.10.6"
  }
 },
 "nbformat": 4,
 "nbformat_minor": 5
}
