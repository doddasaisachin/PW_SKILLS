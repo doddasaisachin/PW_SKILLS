{
 "cells": [
  {
   "cell_type": "markdown",
   "id": "e0e148b8",
   "metadata": {},
   "source": [
    "## Question 1"
   ]
  },
  {
   "cell_type": "code",
   "execution_count": 1,
   "id": "864a2fe5",
   "metadata": {},
   "outputs": [],
   "source": [
    "# Exceptions are raised when the program is syntactically correct, but the code resulted in an error.\n",
    "\n",
    "#Syntax Error is caused by the wrong syntax in the code.It leads to termination of program."
   ]
  },
  {
   "cell_type": "markdown",
   "id": "1de07347",
   "metadata": {},
   "source": [
    "## Question 2"
   ]
  },
  {
   "cell_type": "code",
   "execution_count": 2,
   "id": "ca8eb892",
   "metadata": {},
   "outputs": [
    {
     "name": "stdout",
     "output_type": "stream",
     "text": [
      "start\n"
     ]
    },
    {
     "ename": "NameError",
     "evalue": "name 'a' is not defined",
     "output_type": "error",
     "traceback": [
      "\u001b[1;31m---------------------------------------------------------------------------\u001b[0m",
      "\u001b[1;31mNameError\u001b[0m                                 Traceback (most recent call last)",
      "Cell \u001b[1;32mIn [2], line 5\u001b[0m\n\u001b[0;32m      1\u001b[0m \u001b[38;5;66;03m#If exception is not handled code stops Running at Exception\u001b[39;00m\n\u001b[0;32m      2\u001b[0m \n\u001b[0;32m      3\u001b[0m \u001b[38;5;66;03m#For Example\u001b[39;00m\n\u001b[0;32m      4\u001b[0m \u001b[38;5;28mprint\u001b[39m(\u001b[38;5;124m'\u001b[39m\u001b[38;5;124mstart\u001b[39m\u001b[38;5;124m'\u001b[39m)\n\u001b[1;32m----> 5\u001b[0m \u001b[43ma\u001b[49m\n\u001b[0;32m      6\u001b[0m \u001b[38;5;28mprint\u001b[39m(\u001b[38;5;124m'\u001b[39m\u001b[38;5;124mend\u001b[39m\u001b[38;5;124m'\u001b[39m)\n\u001b[0;32m      7\u001b[0m \u001b[38;5;66;03m## As we see second print statement not executed because of aboveexception\u001b[39;00m\n",
      "\u001b[1;31mNameError\u001b[0m: name 'a' is not defined"
     ]
    }
   ],
   "source": [
    "#If exception is not handled code stops Running at Exception\n",
    "\n",
    "#For Example\n",
    "print('start')\n",
    "a\n",
    "print('end')\n",
    "## As we see second print statement not executed because of aboveexception"
   ]
  },
  {
   "cell_type": "markdown",
   "id": "1788938d",
   "metadata": {},
   "source": [
    "## Question 3"
   ]
  },
  {
   "cell_type": "code",
   "execution_count": 3,
   "id": "a1caa68f",
   "metadata": {},
   "outputs": [
    {
     "name": "stdout",
     "output_type": "stream",
     "text": [
      "name 'a' is not defined\n"
     ]
    }
   ],
   "source": [
    "# except\n",
    "#example\n",
    "try:\n",
    "    a\n",
    "except Exception as e:\n",
    "    print(e)"
   ]
  },
  {
   "cell_type": "markdown",
   "id": "91d37191",
   "metadata": {},
   "source": [
    "## Question 4"
   ]
  },
  {
   "cell_type": "code",
   "execution_count": 4,
   "id": "d8e7e5d2",
   "metadata": {},
   "outputs": [
    {
     "name": "stdout",
     "output_type": "stream",
     "text": [
      "no error\n",
      "else statement\n",
      "finally statement\n",
      "enter age : -1\n"
     ]
    },
    {
     "ename": "Exception",
     "evalue": "Please enter valid age",
     "output_type": "error",
     "traceback": [
      "\u001b[1;31m---------------------------------------------------------------------------\u001b[0m",
      "\u001b[1;31mException\u001b[0m                                 Traceback (most recent call last)",
      "Cell \u001b[1;32mIn [4], line 21\u001b[0m\n\u001b[0;32m     19\u001b[0m age\u001b[38;5;241m=\u001b[39m\u001b[38;5;28mint\u001b[39m(\u001b[38;5;28minput\u001b[39m(\u001b[38;5;124m'\u001b[39m\u001b[38;5;124menter age : \u001b[39m\u001b[38;5;124m'\u001b[39m))\n\u001b[0;32m     20\u001b[0m \u001b[38;5;28;01mif\u001b[39;00m age\u001b[38;5;241m<\u001b[39m\u001b[38;5;241m0\u001b[39m \u001b[38;5;129;01mor\u001b[39;00m age\u001b[38;5;241m>\u001b[39m\u001b[38;5;241m100\u001b[39m:\n\u001b[1;32m---> 21\u001b[0m     \u001b[38;5;28;01mraise\u001b[39;00m \u001b[38;5;167;01mException\u001b[39;00m(\u001b[38;5;124m'\u001b[39m\u001b[38;5;124mPlease enter valid age\u001b[39m\u001b[38;5;124m'\u001b[39m)\n",
      "\u001b[1;31mException\u001b[0m: Please enter valid age"
     ]
    }
   ],
   "source": [
    "# A. Try and Else(else block will run only if try block run without error)\n",
    "#Example\n",
    "try:\n",
    "    print('no error')\n",
    "except Exception as e:\n",
    "    print(e)\n",
    "else: \n",
    "    print('else statement')\n",
    "    \n",
    "#B. Finally (it will always run irrespective of try,exceot,else)\n",
    "try:\n",
    "    error\n",
    "except Exception as e:\n",
    "    pass\n",
    "finally:\n",
    "    print('finally statement')\n",
    "    \n",
    "#C. raise(used to raise exception)\n",
    "age=int(input('enter age : '))\n",
    "if age<0 or age>100:\n",
    "    raise Exception('Please enter valid age')"
   ]
  },
  {
   "cell_type": "markdown",
   "id": "ff99e586",
   "metadata": {},
   "source": [
    "## Question 5"
   ]
  },
  {
   "cell_type": "code",
   "execution_count": 5,
   "id": "f42a4f7f",
   "metadata": {},
   "outputs": [
    {
     "ename": "SampleError",
     "evalue": "This is an sample Error",
     "output_type": "error",
     "traceback": [
      "\u001b[1;31m---------------------------------------------------------------------------\u001b[0m",
      "\u001b[1;31mSampleError\u001b[0m                               Traceback (most recent call last)",
      "Cell \u001b[1;32mIn [5], line 5\u001b[0m\n\u001b[0;32m      3\u001b[0m     \u001b[38;5;28;01mdef\u001b[39;00m \u001b[38;5;21m__init__\u001b[39m(\u001b[38;5;28mself\u001b[39m,msg):\n\u001b[0;32m      4\u001b[0m         \u001b[38;5;28mself\u001b[39m\u001b[38;5;241m.\u001b[39mmsg\u001b[38;5;241m=\u001b[39mmsg\n\u001b[1;32m----> 5\u001b[0m \u001b[38;5;28;01mraise\u001b[39;00m SampleError(\u001b[38;5;124m'\u001b[39m\u001b[38;5;124mThis is an sample Error\u001b[39m\u001b[38;5;124m'\u001b[39m)\n",
      "\u001b[1;31mSampleError\u001b[0m: This is an sample Error"
     ]
    }
   ],
   "source": [
    "# The custom exception hierarchy allows you to catch exceptions at multiple levels, like the standard exception classes.\n",
    "class SampleError(Exception):\n",
    "    def __init__(self,msg):\n",
    "        self.msg=msg\n",
    "raise SampleError('This is an sample Error')"
   ]
  },
  {
   "cell_type": "markdown",
   "id": "bc2f0e14",
   "metadata": {},
   "source": [
    "## Question 6"
   ]
  },
  {
   "cell_type": "code",
   "execution_count": 6,
   "id": "b28b0efb",
   "metadata": {},
   "outputs": [
    {
     "name": "stdout",
     "output_type": "stream",
     "text": [
      "Enter Age: 200\n",
      "Please enter valid age\n"
     ]
    }
   ],
   "source": [
    "class CustomError(Exception):\n",
    "    def __init__(self,msg):\n",
    "        self.msg=msg\n",
    "        \n",
    "try:\n",
    "    age=int(input('Enter Age: '))\n",
    "    if age<0:\n",
    "        raise CustomError(\"Age cannot be neagative\")\n",
    "    elif age>160:\n",
    "        raise CustomError('Please enter valid age')\n",
    "except Exception as e:\n",
    "    print(e)"
   ]
  }
 ],
 "metadata": {
  "kernelspec": {
   "display_name": "Python 3 (ipykernel)",
   "language": "python",
   "name": "python3"
  },
  "language_info": {
   "codemirror_mode": {
    "name": "ipython",
    "version": 3
   },
   "file_extension": ".py",
   "mimetype": "text/x-python",
   "name": "python",
   "nbconvert_exporter": "python",
   "pygments_lexer": "ipython3",
   "version": "3.10.6"
  }
 },
 "nbformat": 4,
 "nbformat_minor": 5
}
