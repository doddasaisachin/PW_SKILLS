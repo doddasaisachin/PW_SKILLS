{
 "cells": [
  {
   "cell_type": "markdown",
   "id": "b14a6660",
   "metadata": {},
   "source": [
    "## Question 1"
   ]
  },
  {
   "cell_type": "code",
   "execution_count": 1,
   "id": "fcc09c93",
   "metadata": {},
   "outputs": [],
   "source": [
    "def password(Str):\n",
    "    upr_count=0\n",
    "    lwr_count=0\n",
    "    num_count=0\n",
    "    spe_count=0\n",
    "    caps='A B C D E F G H I J K L M N O P Q R S T U V W X Y Z'\n",
    "    lows=caps.lower()\n",
    "    cap=caps.split()\n",
    "    low=lows.split()\n",
    "    spe=['!','@','#','$','%','^','&','*' ,'(' ,')','-','_','/']\n",
    "    if len(Str) ==10:\n",
    "        for ele in Str:\n",
    "            if ele.isdigit():\n",
    "                num_count+=1\n",
    "            elif ele in cap:\n",
    "                upr_count+=1\n",
    "            elif ele in low:\n",
    "                lwr_count+=1\n",
    "            elif ele in spe:\n",
    "                spe_count+=1\n",
    "        if num_count>=1 and upr_count>=2 and lwr_count>=2 and spe_count>=3:\n",
    "            print('Valid Password')\n",
    "        else:\n",
    "            print('Invalid Password')\n",
    "    else:\n",
    "        print('Invalid Password')"
   ]
  },
  {
   "cell_type": "code",
   "execution_count": 2,
   "id": "4dcbcd28",
   "metadata": {},
   "outputs": [
    {
     "name": "stdout",
     "output_type": "stream",
     "text": [
      "Valid Password\n"
     ]
    }
   ],
   "source": [
    "p='abcAB4!@#1'\n",
    "password(p)"
   ]
  },
  {
   "cell_type": "markdown",
   "id": "ad65b90c",
   "metadata": {},
   "source": [
    "## Question 2"
   ]
  },
  {
   "cell_type": "code",
   "execution_count": 3,
   "id": "bfcc107c",
   "metadata": {},
   "outputs": [
    {
     "name": "stdout",
     "output_type": "stream",
     "text": [
      "True\n",
      "True\n",
      "[('orange', 80), ('mango', 99), ('grapes', 1000)]\n",
      "[1, 4, 9, 16, 25, 36, 49, 64, 81, 100]\n",
      "[1, 8, 27, 64, 125, 216, 343, 512, 729, 1000]\n",
      "True\n",
      "odd list : [1, 3, 5, 7, 9]\n",
      "+ve list : [1, 2, 3, 4, 5, 6, 0]  -ve list : [-1, -2, -3, -4, -5]\n"
     ]
    }
   ],
   "source": [
    "# Check if the string starts with a particular letter\n",
    "temp1 = lambda Str,Letter : True if Str.startswith(Letter) else False\n",
    "print(temp1('sachin','s'))\n",
    "\n",
    "# Check if the string is numeric\n",
    "temp2 = lambda Str : True if Str.isnumeric() else False\n",
    "print(temp2('264'))\n",
    "\n",
    "# Sort a list of tuples having fruit names and their quantity.\n",
    "  # [(\"mango\",99),(\"orange\",80), (\"grapes\", 1000)]\n",
    "list1=[(\"mango\",99),(\"orange\",80), (\"grapes\", 1000)]\n",
    "sorted_list=sorted(list1,key=lambda x : x[1])\n",
    "print(sorted_list)\n",
    "\n",
    "# Find the squares of numbers from 1 to 10\n",
    "list2=[i for i in range(1,10+1)]\n",
    "sq_list=list(map(lambda x:x*x,list2))\n",
    "print(sq_list)\n",
    "\n",
    "# Find the cube root of numbers from 1 to 10\n",
    "list3=[i for i in range(1,10+1)]\n",
    "cube_list=list(map(lambda x:x*x*x,list3))\n",
    "print(cube_list)\n",
    "\n",
    "# Check if a given number is even\n",
    "temp3=lambda num : True if num%2==0 else False\n",
    "print(temp3(14))\n",
    "\n",
    "# Filter odd numbers from the given list.\n",
    "  #[1,2,3,4,5,6,7,8,9,10]\n",
    "list4=[1,2,3,4,5,6,7,8,9,10]\n",
    "odd_list=list(filter(lambda x:x%2==1,list4))\n",
    "print(\"odd list :\",odd_list)\n",
    "\n",
    "# Sort a list of integers into positive and negative integers lists.\n",
    "  #[1,2,3,4,5,6,-1,-2,-3,-4,-5,0]\n",
    "list5=[1,2,3,4,5,6,-1,-2,-3,-4,-5,0]\n",
    "pos_list=[i for i in list5 if i>=0]\n",
    "neg_list=[i for i in list5 if i<0]\n",
    "print(\"+ve list :\",pos_list,\" -ve list :\",neg_list)"
   ]
  }
 ],
 "metadata": {
  "kernelspec": {
   "display_name": "Python 3 (ipykernel)",
   "language": "python",
   "name": "python3"
  },
  "language_info": {
   "codemirror_mode": {
    "name": "ipython",
    "version": 3
   },
   "file_extension": ".py",
   "mimetype": "text/x-python",
   "name": "python",
   "nbconvert_exporter": "python",
   "pygments_lexer": "ipython3",
   "version": "3.10.6"
  }
 },
 "nbformat": 4,
 "nbformat_minor": 5
}
