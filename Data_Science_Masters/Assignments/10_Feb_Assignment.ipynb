{
 "cells": [
  {
   "cell_type": "markdown",
   "id": "343ca6ea",
   "metadata": {},
   "source": [
    "## Question 1"
   ]
  },
  {
   "cell_type": "code",
   "execution_count": 1,
   "id": "67fdb055",
   "metadata": {},
   "outputs": [
    {
     "name": "stdout",
     "output_type": "stream",
     "text": [
      "hey hello there how are you\n"
     ]
    }
   ],
   "source": [
    "# open() function is used to open a file\n",
    "#there are two ways to open a file \n",
    "## 1. open()\n",
    "## 2. with open() as f\n",
    "#EXAMPLE FOR OPEN()\n",
    "f = open('temp1','w')\n",
    "f.write('hey hello there how are you')\n",
    "f.close()\n",
    "\n",
    "#EXAMPLE FOR WITH OPEN()\n",
    "with open('temp1','r') as f:\n",
    "    data=f.read()\n",
    "    f.close()\n",
    "    print(data)"
   ]
  },
  {
   "cell_type": "markdown",
   "id": "dad9f240",
   "metadata": {},
   "source": [
    "## Question 2"
   ]
  },
  {
   "cell_type": "code",
   "execution_count": 2,
   "id": "9c6cc18d",
   "metadata": {},
   "outputs": [],
   "source": [
    "#close() function is used to close a file \n",
    "## it is important to close the file,beacuse if not updates we made in the file do not update"
   ]
  },
  {
   "cell_type": "markdown",
   "id": "cc58e2f4",
   "metadata": {},
   "source": [
    "## Question 3"
   ]
  },
  {
   "cell_type": "code",
   "execution_count": 3,
   "id": "217105f2",
   "metadata": {},
   "outputs": [
    {
     "name": "stdout",
     "output_type": "stream",
     "text": [
      "I want to become a Data Scientist\n"
     ]
    }
   ],
   "source": [
    "with open('assignment.txt','w') as f:\n",
    "    f.write('I want to become a Data Scientist')\n",
    "    f.close()\n",
    "f=open('assignment.txt','r')\n",
    "data=f.read()\n",
    "print(data)"
   ]
  },
  {
   "cell_type": "markdown",
   "id": "043f9e81",
   "metadata": {},
   "source": [
    "## Question 4"
   ]
  },
  {
   "cell_type": "code",
   "execution_count": 4,
   "id": "52ef2122",
   "metadata": {},
   "outputs": [
    {
     "name": "stdout",
     "output_type": "stream",
     "text": [
      "-----------read()----------------\n",
      "hey\n",
      "hello \n",
      "hola\n",
      "\n",
      "-----------readline()----------------\n",
      "hey\n",
      "\n",
      "-----------readlines()----------------\n",
      "hey\n",
      "\n",
      "hello \n",
      "\n",
      "hola\n",
      "\n"
     ]
    }
   ],
   "source": [
    "#read()\n",
    "print('-----------read()----------------')\n",
    "f = open('temp1.txt','r')\n",
    "data=f.read()\n",
    "print(data)\n",
    "#readline()\n",
    "print('-----------readline()----------------')\n",
    "f.seek(0)\n",
    "data1=f.readline()\n",
    "print(data1)\n",
    "#readlines()\n",
    "print('-----------readlines()----------------')\n",
    "f.seek(0)\n",
    "data2=f.readlines()\n",
    "for line in data2:\n",
    "    print(line)"
   ]
  },
  {
   "cell_type": "markdown",
   "id": "63180dc6",
   "metadata": {},
   "source": [
    "## Question 5"
   ]
  },
  {
   "cell_type": "code",
   "execution_count": 5,
   "id": "90e25234",
   "metadata": {},
   "outputs": [],
   "source": [
    "# used to open a file\n",
    "# whenever we open a file,we need to close at end,but if we open a file using 'WITH' statement we need not to manually close the file"
   ]
  },
  {
   "cell_type": "markdown",
   "id": "d8591c51",
   "metadata": {},
   "source": [
    "## Question 6"
   ]
  },
  {
   "cell_type": "code",
   "execution_count": 6,
   "id": "cabdedc4",
   "metadata": {},
   "outputs": [
    {
     "name": "stdout",
     "output_type": "stream",
     "text": [
      "This is written by \"write\" Statement\n",
      "\n",
      "sai\n",
      "\n",
      "sachin\n",
      "\n",
      "pandu\n"
     ]
    }
   ],
   "source": [
    "#Write\n",
    "f=open('assignment.txt','w')\n",
    "f.write('This is written by \"write\" Statement')\n",
    "lines=['\\nsai','\\nsachin','\\npandu']\n",
    "f.writelines(lines)\n",
    "f.close()\n",
    "\n",
    "#WriteLines - used to write multiple lines\n",
    "f=open('assignment.txt','r')\n",
    "data=f.readlines()\n",
    "f.close()\n",
    "for line in data:\n",
    "    print(line)"
   ]
  }
 ],
 "metadata": {
  "kernelspec": {
   "display_name": "Python 3 (ipykernel)",
   "language": "python",
   "name": "python3"
  },
  "language_info": {
   "codemirror_mode": {
    "name": "ipython",
    "version": 3
   },
   "file_extension": ".py",
   "mimetype": "text/x-python",
   "name": "python",
   "nbconvert_exporter": "python",
   "pygments_lexer": "ipython3",
   "version": "3.10.6"
  }
 },
 "nbformat": 4,
 "nbformat_minor": 5
}
