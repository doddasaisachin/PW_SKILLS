{
 "cells": [
  {
   "cell_type": "markdown",
   "id": "8759d144",
   "metadata": {},
   "source": [
    "## 1 Question"
   ]
  },
  {
   "cell_type": "code",
   "execution_count": 2,
   "id": "638b162f",
   "metadata": {},
   "outputs": [],
   "source": [
    "# Tuple items are ordered, unchangeable, and allow duplicate values.\n",
    "# Yes,Tuples are immutable"
   ]
  },
  {
   "cell_type": "markdown",
   "id": "7f70fc4e",
   "metadata": {},
   "source": [
    "## 2 Question"
   ]
  },
  {
   "cell_type": "code",
   "execution_count": 3,
   "id": "843317ae",
   "metadata": {},
   "outputs": [
    {
     "name": "stdout",
     "output_type": "stream",
     "text": [
      "2\n",
      "1\n"
     ]
    }
   ],
   "source": [
    "# count():\n",
    "T1=[13,18,11,16,18,14]\n",
    "print(T1.count(18) )\n",
    "# index():\n",
    "T1=[13,18,11,16,18,14]\n",
    "print(T1.index(18))\n",
    "\n",
    "#there are only two methods in tuples beacause tuples are Immutable,i.e once they created they cannot be changed."
   ]
  },
  {
   "cell_type": "markdown",
   "id": "569eb7ae",
   "metadata": {},
   "source": [
    "## 3 Question"
   ]
  },
  {
   "cell_type": "code",
   "execution_count": 4,
   "id": "08700d1c",
   "metadata": {},
   "outputs": [
    {
     "name": "stdout",
     "output_type": "stream",
     "text": [
      "{1, 2, 3, 4}\n"
     ]
    }
   ],
   "source": [
    "# Sets\n",
    "l=[1, 1, 1, 2, 1, 3, 1, 4, 2, 1, 2, 2, 2, 3, 2, 4, 3, 1, 3, 2, 3, 3, 3, 4, 4, 1, 4, 2, 4, 3, 4, 4]\n",
    "res=set(l)\n",
    "print(res)"
   ]
  },
  {
   "cell_type": "markdown",
   "id": "b49abb1e",
   "metadata": {},
   "source": [
    "## 4 Question"
   ]
  },
  {
   "cell_type": "code",
   "execution_count": 5,
   "id": "49c3901f",
   "metadata": {},
   "outputs": [
    {
     "name": "stdout",
     "output_type": "stream",
     "text": [
      "UNION : {'Python', 'Julia', 'Go', 'R', 'JavaScript'}\n",
      "{'Python', 'Julia', 'Go', 'R', 'JavaScript'}\n"
     ]
    }
   ],
   "source": [
    "# update() adds all missing elements to the existing set and also removes duplicates.\n",
    "# union() creates a new set by adding two sets,returns new set.\n",
    "A = {\"Python\", \"R\", \"Julia\"}\n",
    "B = {\"Go\", \"JavaScript\", \"Python\"}\n",
    "print(f\"UNION : {A.union(B)}\")\n",
    "A.update(B)\n",
    "print(A)"
   ]
  },
  {
   "cell_type": "markdown",
   "id": "8ba4fabd",
   "metadata": {},
   "source": [
    "## 5 Question"
   ]
  },
  {
   "cell_type": "code",
   "execution_count": 6,
   "id": "bf62a098",
   "metadata": {},
   "outputs": [],
   "source": [
    "# The dictionary is an unordered collection that contains key:value pairs separated by commas inside curly brackets.\n",
    "#EXAMPLE\n",
    "dic={\n",
    "    'name':'dham-babai',\n",
    "    'age':36,\n",
    "    'Gender':'Male'\n",
    "}\n",
    "#Dictionaries are unordered "
   ]
  },
  {
   "cell_type": "markdown",
   "id": "636e0438",
   "metadata": {},
   "source": [
    "## 6 Question"
   ]
  },
  {
   "cell_type": "code",
   "execution_count": 7,
   "id": "a8f50f1f",
   "metadata": {},
   "outputs": [],
   "source": [
    "# Yes we can create nested Dictionaries\n",
    "nested_dic={\n",
    "    'name':'sachin',\n",
    "    'age':19,\n",
    "    'friend':{\n",
    "        'name':'shuuu',\n",
    "        'age':18\n",
    "    }\n",
    "}"
   ]
  },
  {
   "cell_type": "markdown",
   "id": "7934f963",
   "metadata": {},
   "source": [
    "## 7 Question"
   ]
  },
  {
   "cell_type": "code",
   "execution_count": 8,
   "id": "aec324c8",
   "metadata": {},
   "outputs": [
    {
     "name": "stdout",
     "output_type": "stream",
     "text": [
      "{'language': 'Python', 'course': 'Data Science Masters', 'Topics': ['Python', 'Machine Learning', 'Deep Learning']}\n"
     ]
    }
   ],
   "source": [
    "dic= {'language' : 'Python', 'course': 'Data Science Masters'}\n",
    "dic.setdefault('Topics', ['Python', 'Machine Learning','Deep Learning'] )\n",
    "print(dic)"
   ]
  },
  {
   "cell_type": "markdown",
   "id": "f0e7f2cd",
   "metadata": {},
   "source": [
    "## 8 Question"
   ]
  },
  {
   "cell_type": "code",
   "execution_count": 9,
   "id": "65fd48ed",
   "metadata": {},
   "outputs": [
    {
     "name": "stdout",
     "output_type": "stream",
     "text": [
      "dict_items([('Sport', 'Cricket'), ('Teams', ['India', 'Australia', 'England', 'South Africa', 'Sri Lanka', 'New Zealand'])])\n",
      "dict_keys(['Sport', 'Teams'])\n",
      "dict_values(['Cricket', ['India', 'Australia', 'England', 'South Africa', 'Sri Lanka', 'New Zealand']])\n"
     ]
    }
   ],
   "source": [
    "# items,keys,values are three view objects\n",
    "dict1 = {'Sport': 'Cricket' , 'Teams': ['India', 'Australia', 'England', 'South Africa', 'Sri Lanka', 'New Zealand']}\n",
    "print(dict1.items())\n",
    "print(dict1.keys())\n",
    "print(dict1.values())"
   ]
  }
 ],
 "metadata": {
  "kernelspec": {
   "display_name": "Python 3 (ipykernel)",
   "language": "python",
   "name": "python3"
  },
  "language_info": {
   "codemirror_mode": {
    "name": "ipython",
    "version": 3
   },
   "file_extension": ".py",
   "mimetype": "text/x-python",
   "name": "python",
   "nbconvert_exporter": "python",
   "pygments_lexer": "ipython3",
   "version": "3.9.13"
  }
 },
 "nbformat": 4,
 "nbformat_minor": 5
}
