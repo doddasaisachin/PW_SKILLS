{
 "cells": [
  {
   "cell_type": "markdown",
   "id": "b2e5adb4",
   "metadata": {},
   "source": [
    "## Question 1"
   ]
  },
  {
   "cell_type": "code",
   "execution_count": 3,
   "id": "a9452045",
   "metadata": {},
   "outputs": [],
   "source": [
    "# multiprocessing-Multiprocessing refers to the ability of a system to support more than one processor at the same time.\n",
    "# Applications in a multiprocessing system are broken to smaller routines that run independently. The operating system allocates these threads to the processors improving performance of the system."
   ]
  },
  {
   "cell_type": "markdown",
   "id": "75ffb4d4",
   "metadata": {},
   "source": [
    "## Question 2"
   ]
  },
  {
   "cell_type": "code",
   "execution_count": 2,
   "id": "c2c6d33a",
   "metadata": {},
   "outputs": [],
   "source": [
    "# Multiprocessing-Many processes are executed simultaneously\n",
    "# Multithreading-Many threads of a process are executed simultaneously"
   ]
  },
  {
   "cell_type": "markdown",
   "id": "a372b217",
   "metadata": {},
   "source": [
    "## Question 3"
   ]
  },
  {
   "cell_type": "code",
   "execution_count": 3,
   "id": "1822c748",
   "metadata": {},
   "outputs": [
    {
     "name": "stdout",
     "output_type": "stream",
     "text": [
      "this is my main prod\n",
      "this is my multiprocessing prog\n"
     ]
    }
   ],
   "source": [
    "import multiprocessing\n",
    "\n",
    "def test():\n",
    "    print(\"this is my multiprocessing prog\")\n",
    "\n",
    "if __name__ == \"__main__\":\n",
    "    m = multiprocessing.Process(target=test)\n",
    "    print(\"this is my main prod\")\n",
    "    m.start()\n",
    "    m.join()"
   ]
  },
  {
   "cell_type": "markdown",
   "id": "e34af8e2",
   "metadata": {},
   "source": [
    "## Question 4"
   ]
  },
  {
   "cell_type": "code",
   "execution_count": 4,
   "id": "1a088647",
   "metadata": {},
   "outputs": [],
   "source": [
    "# multiprocessing.Pool()-Returns a process pool object\n",
    "# It creates multiple Python processes in the background and spreads out your computations for you across multiple CPU cores so that they all happen in parallel without you needing to do anything."
   ]
  },
  {
   "cell_type": "markdown",
   "id": "d45f4f69",
   "metadata": {},
   "source": [
    "## Question 5"
   ]
  },
  {
   "cell_type": "code",
   "execution_count": 2,
   "id": "6f17cab4",
   "metadata": {},
   "outputs": [],
   "source": [
    "# The syntax to create a pool object is multiprocessing.Pool (processes, initializer, initargs, maxtasksperchild, context). All the arguments are optional."
   ]
  },
  {
   "cell_type": "markdown",
   "id": "02f9987b",
   "metadata": {},
   "source": [
    "## Question 6"
   ]
  },
  {
   "cell_type": "code",
   "execution_count": 1,
   "id": "a466b736",
   "metadata": {},
   "outputs": [
    {
     "name": "stdout",
     "output_type": "stream",
     "text": [
      "[3, 4, 5, 6, 6, 7, 87, 8, 8]\n"
     ]
    }
   ],
   "source": [
    "def num(n):\n",
    "    return n    \n",
    "with multiprocessing.Pool(processes=4) as pool :\n",
    "    out =pool.map(num , [3,4,5,6,6,7,87,8,8])\n",
    "    print(out)"
   ]
  }
 ],
 "metadata": {
  "kernelspec": {
   "display_name": "Python 3 (ipykernel)",
   "language": "python",
   "name": "python3"
  },
  "language_info": {
   "codemirror_mode": {
    "name": "ipython",
    "version": 3
   },
   "file_extension": ".py",
   "mimetype": "text/x-python",
   "name": "python",
   "nbconvert_exporter": "python",
   "pygments_lexer": "ipython3",
   "version": "3.10.6"
  }
 },
 "nbformat": 4,
 "nbformat_minor": 5
}
