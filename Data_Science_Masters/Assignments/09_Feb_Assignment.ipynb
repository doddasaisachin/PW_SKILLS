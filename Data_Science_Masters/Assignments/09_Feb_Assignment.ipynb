{
 "cells": [
  {
   "cell_type": "markdown",
   "id": "0d9d77af",
   "metadata": {},
   "source": [
    "## Question 1"
   ]
  },
  {
   "cell_type": "code",
   "execution_count": 1,
   "id": "a26d2bcb",
   "metadata": {},
   "outputs": [],
   "source": [
    "class vehicle(object):\n",
    "    def __init__(self,name_of_vehicle,max_speed,average_of_vehicle):\n",
    "        self.name_of_vehicle=name_of_vehicle\n",
    "        self.max_speed=max_speed\n",
    "        self.average_of_vehicle=average_of_vehicle"
   ]
  },
  {
   "cell_type": "markdown",
   "id": "c6862175",
   "metadata": {},
   "source": [
    "## Question 2"
   ]
  },
  {
   "cell_type": "code",
   "execution_count": 2,
   "id": "88a92e32",
   "metadata": {},
   "outputs": [
    {
     "name": "stdout",
     "output_type": "stream",
     "text": [
      "car1\n"
     ]
    }
   ],
   "source": [
    "class car(vehicle):\n",
    "    def seating_capacity(self,capacity):\n",
    "        return self.name_of_vehicle\n",
    "\n",
    "obj=car('car1',240,150)\n",
    "print(obj.seating_capacity(5))"
   ]
  },
  {
   "cell_type": "markdown",
   "id": "a475c8dc",
   "metadata": {},
   "source": [
    "## Question 3"
   ]
  },
  {
   "cell_type": "code",
   "execution_count": 3,
   "id": "13188022",
   "metadata": {},
   "outputs": [
    {
     "name": "stdout",
     "output_type": "stream",
     "text": [
      "8\n",
      "12\n"
     ]
    }
   ],
   "source": [
    "# When a class is derived from more than one base class\n",
    "class calculator(object):\n",
    "    def __init__(self,num1,num2):\n",
    "        self.num1=num1\n",
    "        self.num2=num2\n",
    "    def add(self):\n",
    "        return self.num1+self.num2\n",
    "    def subtract(self):\n",
    "        return self.num1-self.num2\n",
    "    \n",
    "class adv_calculator(calculator):\n",
    "    def multipy(self):\n",
    "        return self.num1*self.num2\n",
    "    \n",
    "obj=adv_calculator(2,6)\n",
    "print(obj.add())\n",
    "print(obj.multipy())"
   ]
  },
  {
   "cell_type": "markdown",
   "id": "9a9aa531",
   "metadata": {},
   "source": [
    "## Question 4"
   ]
  },
  {
   "cell_type": "code",
   "execution_count": 4,
   "id": "185a2ba0",
   "metadata": {
    "scrolled": false
   },
   "outputs": [
    {
     "name": "stdout",
     "output_type": "stream",
     "text": [
      "sai\n",
      "sachin\n"
     ]
    }
   ],
   "source": [
    "# What are getter and setter in python?\n",
    "## these are the methods used in oops which helps to access the private attributes of the class\n",
    "\n",
    "class temp(object):\n",
    "    def __init__(self,name,no):\n",
    "        self.__name=name\n",
    "        self.__no=no\n",
    "        \n",
    "    @property #getter\n",
    "    def name(self):\n",
    "        return self.__name\n",
    "    \n",
    "    @name.setter #setter\n",
    "    def set_name(self,new_name):\n",
    "        self.__name=new_name\n",
    "    \n",
    "obj=temp('sai',19)\n",
    "print(obj.name)\n",
    "obj.set_name='sachin'\n",
    "print(obj.name)"
   ]
  },
  {
   "cell_type": "markdown",
   "id": "776efdc7",
   "metadata": {},
   "source": [
    "## Question 5"
   ]
  },
  {
   "cell_type": "code",
   "execution_count": 5,
   "id": "7077f720",
   "metadata": {},
   "outputs": [
    {
     "data": {
      "text/plain": [
       "12"
      ]
     },
     "execution_count": 5,
     "metadata": {},
     "output_type": "execute_result"
    }
   ],
   "source": [
    "## that allows a subclass or child class to provide a specific implementation of a method that is already provided by one of its super-classes or parent classes\n",
    "class basic(object):\n",
    "    def add(self,a,b):\n",
    "        return a+b\n",
    "    def sub(self,a,b):\n",
    "        return a-b\n",
    "class adv(basic):\n",
    "    def mul(self,a,b):\n",
    "        return a*b\n",
    "    def div(self,a,b):\n",
    "        return a/b\n",
    "    \n",
    "obj1=basic()\n",
    "obj2=adv()\n",
    "obj1.add(6,6)\n",
    "obj2.add(6,6)"
   ]
  }
 ],
 "metadata": {
  "kernelspec": {
   "display_name": "Python 3 (ipykernel)",
   "language": "python",
   "name": "python3"
  },
  "language_info": {
   "codemirror_mode": {
    "name": "ipython",
    "version": 3
   },
   "file_extension": ".py",
   "mimetype": "text/x-python",
   "name": "python",
   "nbconvert_exporter": "python",
   "pygments_lexer": "ipython3",
   "version": "3.10.6"
  }
 },
 "nbformat": 4,
 "nbformat_minor": 5
}
