{
 "cells": [
  {
   "cell_type": "markdown",
   "id": "ee1a215c",
   "metadata": {},
   "source": [
    "## Question 1"
   ]
  },
  {
   "cell_type": "code",
   "execution_count": 1,
   "id": "cacf9caa",
   "metadata": {},
   "outputs": [
    {
     "name": "stdout",
     "output_type": "stream",
     "text": [
      "Apple Orange Banana\n"
     ]
    }
   ],
   "source": [
    "#Classes are user-defined data types that act as the blueprint for individual objects, attributes and methods. \n",
    "# Objects are instances of a class created with specifically defined data.\n",
    "# Example : \n",
    "class fruit(object):\n",
    "    def __init__(self,name):\n",
    "        self.name=name\n",
    "    def fruit_name(self):\n",
    "        return self.name\n",
    "fruit1=fruit('Apple')\n",
    "fruit2=fruit('Orange')\n",
    "fruit3=fruit('Banana')\n",
    "print(fruit1.fruit_name(),fruit2.fruit_name(),fruit3.fruit_name())"
   ]
  },
  {
   "cell_type": "markdown",
   "id": "a939629c",
   "metadata": {},
   "source": [
    "## Question 2"
   ]
  },
  {
   "cell_type": "code",
   "execution_count": 2,
   "id": "63fe9a8e",
   "metadata": {},
   "outputs": [],
   "source": [
    "#  Inheritance, Polymorphism, Encapsulation and Abstraction."
   ]
  },
  {
   "cell_type": "markdown",
   "id": "5ee89d82",
   "metadata": {},
   "source": [
    "## Question 3"
   ]
  },
  {
   "cell_type": "code",
   "execution_count": 3,
   "id": "0c1ca65e",
   "metadata": {},
   "outputs": [],
   "source": [
    "# __init__ is constructor.that is used to initialise variable every time class has been called\n",
    "# For Example in the above code there is a class fruit which takes name as an argument everytime object has been created."
   ]
  },
  {
   "cell_type": "markdown",
   "id": "9ed68caa",
   "metadata": {},
   "source": [
    "## Question 4"
   ]
  },
  {
   "cell_type": "code",
   "execution_count": 4,
   "id": "a0fe2ad2",
   "metadata": {},
   "outputs": [],
   "source": [
    "# to represent the instance of the class"
   ]
  },
  {
   "cell_type": "markdown",
   "id": "a53fe58d",
   "metadata": {},
   "source": [
    "## Question 5"
   ]
  },
  {
   "cell_type": "code",
   "execution_count": 5,
   "id": "ba55b692",
   "metadata": {},
   "outputs": [
    {
     "data": {
      "text/plain": [
       "'\\nSingle inheritance\\n\\nMulti-level inheritance\\n\\nMultiple inheritance\\n\\nMultipath inheritance\\n\\nHierarchical Inheritance\\n\\nHybrid Inheritance\\n'"
      ]
     },
     "execution_count": 5,
     "metadata": {},
     "output_type": "execute_result"
    }
   ],
   "source": [
    "# Inheritance is a mechanism in which one class acquires the property of another class\n",
    "'''\n",
    "Single inheritance\n",
    "\n",
    "Multi-level inheritance\n",
    "\n",
    "Multiple inheritance\n",
    "\n",
    "Multipath inheritance\n",
    "\n",
    "Hierarchical Inheritance\n",
    "\n",
    "Hybrid Inheritance\n",
    "'''"
   ]
  }
 ],
 "metadata": {
  "kernelspec": {
   "display_name": "Python 3 (ipykernel)",
   "language": "python",
   "name": "python3"
  },
  "language_info": {
   "codemirror_mode": {
    "name": "ipython",
    "version": 3
   },
   "file_extension": ".py",
   "mimetype": "text/x-python",
   "name": "python",
   "nbconvert_exporter": "python",
   "pygments_lexer": "ipython3",
   "version": "3.10.6"
  }
 },
 "nbformat": 4,
 "nbformat_minor": 5
}
