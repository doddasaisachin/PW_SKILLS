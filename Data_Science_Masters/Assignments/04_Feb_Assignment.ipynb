{
 "cells": [
  {
   "cell_type": "markdown",
   "id": "896486d1",
   "metadata": {},
   "source": [
    "## Question 1"
   ]
  },
  {
   "cell_type": "code",
   "execution_count": 1,
   "id": "19196968",
   "metadata": {},
   "outputs": [
    {
     "name": "stdout",
     "output_type": "stream",
     "text": [
      "[('kohli', 24936), ('kallis', 25534), ('ponting', 27483), ('sachin', 34357)]\n"
     ]
    }
   ],
   "source": [
    "List=[('sachin',34357),('ponting',27483),('kallis',25534),('kohli',24936)]\n",
    "List.sort(key=lambda x : x[1])\n",
    "print(List)"
   ]
  },
  {
   "cell_type": "markdown",
   "id": "beda0e95",
   "metadata": {},
   "source": [
    "## Question 2"
   ]
  },
  {
   "cell_type": "code",
   "execution_count": 2,
   "id": "4fc2a127",
   "metadata": {},
   "outputs": [
    {
     "name": "stdout",
     "output_type": "stream",
     "text": [
      "[1, 4, 9, 16, 25, 36, 49, 64, 81, 100]\n"
     ]
    }
   ],
   "source": [
    "temp1=[i for i in range(1,10+1)]\n",
    "sq_list=list(map(lambda x : x*x,temp1))\n",
    "print(sq_list)"
   ]
  },
  {
   "cell_type": "markdown",
   "id": "4d8435ad",
   "metadata": {},
   "source": [
    "## Question 3"
   ]
  },
  {
   "cell_type": "code",
   "execution_count": 3,
   "id": "0465853a",
   "metadata": {},
   "outputs": [
    {
     "name": "stdout",
     "output_type": "stream",
     "text": [
      "('1', '2', '3', '4', '5', '6', '7', '8', '9', '10')\n"
     ]
    }
   ],
   "source": [
    "temp2=[i for i in range(1,10+1)]\n",
    "str_tup=tuple(map(lambda x:str(x),temp2))\n",
    "print(str_tup)"
   ]
  },
  {
   "cell_type": "markdown",
   "id": "2af519f9",
   "metadata": {},
   "source": [
    "## Question 4"
   ]
  },
  {
   "cell_type": "code",
   "execution_count": 4,
   "id": "9a78c602",
   "metadata": {},
   "outputs": [
    {
     "name": "stdout",
     "output_type": "stream",
     "text": [
      "15511210043330985984000000\n"
     ]
    }
   ],
   "source": [
    "from functools import *\n",
    "temp3=[i for i in range(1,25+1)]\n",
    "print(reduce(lambda x,y:x*y ,temp3))"
   ]
  },
  {
   "cell_type": "markdown",
   "id": "5227c8e2",
   "metadata": {},
   "source": [
    "## Question 5"
   ]
  },
  {
   "cell_type": "code",
   "execution_count": 5,
   "id": "e58f3ce6",
   "metadata": {},
   "outputs": [
    {
     "name": "stdout",
     "output_type": "stream",
     "text": [
      "[6, 60, 90, 120]\n"
     ]
    }
   ],
   "source": [
    "temp4=[2, 3, 6, 9, 27, 60, 90, 120, 55, 46]\n",
    "fil_list=list(filter(lambda x:x%2==0 and x%3==0 , temp4))\n",
    "print(fil_list)"
   ]
  },
  {
   "cell_type": "markdown",
   "id": "0991bfb9",
   "metadata": {},
   "source": [
    "## Question 6"
   ]
  },
  {
   "cell_type": "code",
   "execution_count": 6,
   "id": "94359954",
   "metadata": {},
   "outputs": [
    {
     "name": "stdout",
     "output_type": "stream",
     "text": [
      "['php', 'aba', 'radar', 'level']\n"
     ]
    }
   ],
   "source": [
    "temp5=['python', 'php', 'aba', 'radar', 'level']\n",
    "new_list=list(filter(lambda x : x==x[::-1],temp5))\n",
    "print(new_list)"
   ]
  }
 ],
 "metadata": {
  "kernelspec": {
   "display_name": "Python 3 (ipykernel)",
   "language": "python",
   "name": "python3"
  },
  "language_info": {
   "codemirror_mode": {
    "name": "ipython",
    "version": 3
   },
   "file_extension": ".py",
   "mimetype": "text/x-python",
   "name": "python",
   "nbconvert_exporter": "python",
   "pygments_lexer": "ipython3",
   "version": "3.10.6"
  }
 },
 "nbformat": 4,
 "nbformat_minor": 5
}
