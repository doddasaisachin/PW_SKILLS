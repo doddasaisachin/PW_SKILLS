{
 "cells": [
  {
   "cell_type": "markdown",
   "id": "9fa78e76",
   "metadata": {},
   "source": [
    "## Question 1"
   ]
  },
  {
   "cell_type": "code",
   "execution_count": 1,
   "id": "4e90f2c2",
   "metadata": {},
   "outputs": [],
   "source": [
    "# Web scraping is an automatic method to obtain large amounts of data from websites.\n",
    "# it is used to retrieve data from websites in a automated way\n",
    "# three areas where Web Scraping is used to get data.\n",
    "## Review applications\n",
    "## News monitoring\n",
    "## Price monitoring"
   ]
  },
  {
   "cell_type": "markdown",
   "id": "21e60c50",
   "metadata": {},
   "source": [
    "## Question 2"
   ]
  },
  {
   "cell_type": "code",
   "execution_count": 2,
   "id": "46bb3925",
   "metadata": {},
   "outputs": [],
   "source": [
    "# methods - POST,GET,PUT,DELETE"
   ]
  },
  {
   "cell_type": "markdown",
   "id": "c9994571",
   "metadata": {},
   "source": [
    "## Question 3"
   ]
  },
  {
   "cell_type": "code",
   "execution_count": 3,
   "id": "f0d2d062",
   "metadata": {},
   "outputs": [],
   "source": [
    "# beautiful soup is a python library that is used for web scraping purposes to pull the data out of HTML and XML files.\n",
    "# It creates a parse tree from page source code that can be used to extract data in a more readable format\n",
    "# used for parsing structured data.It allows users to interact with HTML similar way how we interact in web pages"
   ]
  },
  {
   "cell_type": "markdown",
   "id": "b4d70182",
   "metadata": {},
   "source": [
    "## Question 4"
   ]
  },
  {
   "cell_type": "code",
   "execution_count": 8,
   "id": "18f3ed0f",
   "metadata": {},
   "outputs": [],
   "source": [
    "# to connect two pages and take input from one page,and provide it on another page"
   ]
  },
  {
   "cell_type": "markdown",
   "id": "13bc8203",
   "metadata": {},
   "source": [
    "## Question 5"
   ]
  },
  {
   "cell_type": "code",
   "execution_count": 7,
   "id": "d622e825",
   "metadata": {},
   "outputs": [],
   "source": [
    "# 1.AWS Code Pipeline - connects github to Beanstalk\n",
    "# 2.AWS Elastic Beanstalk - is a pre-configured EC2 server that can directly take up your application code and environment configurations and use it to automatically provision and deploy the required resources within AWS to run the web application."
   ]
  }
 ],
 "metadata": {
  "kernelspec": {
   "display_name": "Python 3 (ipykernel)",
   "language": "python",
   "name": "python3"
  },
  "language_info": {
   "codemirror_mode": {
    "name": "ipython",
    "version": 3
   },
   "file_extension": ".py",
   "mimetype": "text/x-python",
   "name": "python",
   "nbconvert_exporter": "python",
   "pygments_lexer": "ipython3",
   "version": "3.10.6"
  }
 },
 "nbformat": 4,
 "nbformat_minor": 5
}
