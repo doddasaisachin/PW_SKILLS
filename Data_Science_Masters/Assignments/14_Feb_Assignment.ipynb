{
 "cells": [
  {
   "cell_type": "markdown",
   "id": "c833d346",
   "metadata": {},
   "source": [
    "## Question 1"
   ]
  },
  {
   "cell_type": "code",
   "execution_count": 1,
   "id": "c738c201",
   "metadata": {},
   "outputs": [],
   "source": [
    "# Multiple tasks can be done in one core\n",
    "# Multithreading is used to performs multi tasks at a time\n",
    "#MODULE - threading "
   ]
  },
  {
   "cell_type": "markdown",
   "id": "38e2ddab",
   "metadata": {},
   "source": [
    "## Question 2"
   ]
  },
  {
   "cell_type": "code",
   "execution_count": 2,
   "id": "f1db1f3f",
   "metadata": {},
   "outputs": [],
   "source": [
    "# threading module is used to import the multithreading\n",
    "import threading\n",
    "# threading.active_count() - Return the number of Thread objects currently alive.\n",
    "# threading.current_thread() - Return the current Thread object, corresponding to the caller's thread of control.\n",
    "# threading.enumerate() - Return a list of all Thread objects currently alive."
   ]
  },
  {
   "cell_type": "markdown",
   "id": "d3dc1680",
   "metadata": {},
   "source": [
    "## Question 3"
   ]
  },
  {
   "cell_type": "code",
   "execution_count": 3,
   "id": "be9392da",
   "metadata": {},
   "outputs": [],
   "source": [
    "# run()-Method representing the thread's activity.\n",
    "# start()-Start the thread's activity.\n",
    "# join()-Wait until the thread terminates.\n",
    "# is_alive()-Return whether the thread is alive."
   ]
  },
  {
   "cell_type": "markdown",
   "id": "59581816",
   "metadata": {},
   "source": [
    "## Question 4"
   ]
  },
  {
   "cell_type": "code",
   "execution_count": 4,
   "id": "0c154830",
   "metadata": {},
   "outputs": [],
   "source": [
    "def sq(n):\n",
    "    print(n**2)\n",
    "def cube(n):\n",
    "    print(n**3)"
   ]
  },
  {
   "cell_type": "code",
   "execution_count": 5,
   "id": "fde05183",
   "metadata": {},
   "outputs": [],
   "source": [
    "t=[threading.Thread(target=sq,args=(i,)) for i in [1,2,3]]\n",
    "t1=[threading.Thread(target=cube,args=(i,)) for i in [1,2,3]]"
   ]
  },
  {
   "cell_type": "code",
   "execution_count": 6,
   "id": "8b2a305f",
   "metadata": {
    "scrolled": true
   },
   "outputs": [
    {
     "name": "stdout",
     "output_type": "stream",
     "text": [
      "1\n",
      "4\n",
      "9\n",
      "1\n",
      "8\n",
      "27\n"
     ]
    }
   ],
   "source": [
    "for i in t:\n",
    "    i.start()\n",
    "for j in t1:\n",
    "    j.start()"
   ]
  },
  {
   "cell_type": "markdown",
   "id": "d73e372f",
   "metadata": {},
   "source": [
    "## Question 5"
   ]
  },
  {
   "cell_type": "code",
   "execution_count": 7,
   "id": "610fde20",
   "metadata": {},
   "outputs": [],
   "source": [
    "# ### ADVANTAGES ###\n",
    "# Simultaneous and parallelized occurrence of tasks\n",
    "# Better use of CPU resource\n",
    "# Simplified and streamlined program coding\n",
    "# Enhanced performance by decreased development time\n",
    "# ### DISADVANTAGES ###\n",
    "# Complex debugging and testing processes\n",
    "# Overhead switching of context\n",
    "# Increased difficulty level in writing a program"
   ]
  },
  {
   "cell_type": "markdown",
   "id": "a11439cf",
   "metadata": {},
   "source": [
    "## Question 6"
   ]
  },
  {
   "cell_type": "code",
   "execution_count": 8,
   "id": "213576ac",
   "metadata": {},
   "outputs": [],
   "source": [
    "#DEADLOCK - The program cannot continue to run because the lock of a thread is not released in time.\n",
    "# RACE-CONDITION - A race condition occurs when two threads try to access a shared variable simultaneously"
   ]
  }
 ],
 "metadata": {
  "kernelspec": {
   "display_name": "Python 3 (ipykernel)",
   "language": "python",
   "name": "python3"
  },
  "language_info": {
   "codemirror_mode": {
    "name": "ipython",
    "version": 3
   },
   "file_extension": ".py",
   "mimetype": "text/x-python",
   "name": "python",
   "nbconvert_exporter": "python",
   "pygments_lexer": "ipython3",
   "version": "3.10.6"
  }
 },
 "nbformat": 4,
 "nbformat_minor": 5
}
