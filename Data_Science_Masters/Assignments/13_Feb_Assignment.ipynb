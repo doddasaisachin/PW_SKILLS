{
 "cells": [
  {
   "cell_type": "markdown",
   "id": "15dc52ad",
   "metadata": {},
   "source": [
    "## Question 1"
   ]
  },
  {
   "cell_type": "code",
   "execution_count": 1,
   "id": "5ca140bd",
   "metadata": {},
   "outputs": [],
   "source": [
    "# We can create a custom Exception class to define the new Exception.\n",
    "# Again, the idea behind using a Class is because Python treats everything as a Class. \n",
    "# So it doesn’t seem that outlandish that an Exception can be a class as well!\n",
    "# All Exceptions inherit the parent Exception Class, which we shall also inherit when creating our class"
   ]
  },
  {
   "cell_type": "markdown",
   "id": "de76068b",
   "metadata": {},
   "source": [
    "## Question 2"
   ]
  },
  {
   "cell_type": "code",
   "execution_count": 2,
   "id": "0d726354",
   "metadata": {
    "scrolled": false
   },
   "outputs": [
    {
     "data": {
      "text/plain": [
       "[TypeError,\n",
       " StopAsyncIteration,\n",
       " StopIteration,\n",
       " ImportError,\n",
       " OSError,\n",
       " EOFError,\n",
       " RuntimeError,\n",
       " NameError,\n",
       " AttributeError,\n",
       " SyntaxError,\n",
       " LookupError,\n",
       " ValueError,\n",
       " AssertionError,\n",
       " ArithmeticError,\n",
       " SystemError,\n",
       " ReferenceError,\n",
       " MemoryError,\n",
       " BufferError,\n",
       " Warning,\n",
       " warnings._OptionError,\n",
       " runpy._Error,\n",
       " re.error,\n",
       " sre_parse.Verbose,\n",
       " locale.Error,\n",
       " subprocess.SubprocessError,\n",
       " tokenize.TokenError,\n",
       " tokenize.StopTokenizing,\n",
       " inspect.ClassFoundException,\n",
       " inspect.EndOfBlock,\n",
       " traitlets.traitlets.TraitError,\n",
       " copy.Error,\n",
       " concurrent.futures._base.Error,\n",
       " socket._GiveupOnSendfile,\n",
       " struct.error,\n",
       " binascii.Incomplete,\n",
       " asyncio.exceptions.TimeoutError,\n",
       " asyncio.exceptions.InvalidStateError,\n",
       " asyncio.exceptions.LimitOverrunError,\n",
       " asyncio.queues.QueueEmpty,\n",
       " asyncio.queues.QueueFull,\n",
       " zlib.error,\n",
       " _lzma.LZMAError,\n",
       " shutil.RegistryError,\n",
       " shutil._GiveupOnFastCopy,\n",
       " _queue.Empty,\n",
       " queue.Full,\n",
       " zmq.error.ZMQBaseError,\n",
       " _pickle.PickleError,\n",
       " pickle._Stop,\n",
       " argparse.ArgumentError,\n",
       " argparse.ArgumentTypeError,\n",
       " traitlets.config.loader.ConfigError,\n",
       " traitlets.config.configurable.ConfigurableError,\n",
       " traitlets.config.application.ApplicationError,\n",
       " ctypes.ArgumentError,\n",
       " _ctypes.COMError,\n",
       " tornado.concurrent.ReturnValueIgnoredError,\n",
       " tornado.gen.KeyReuseError,\n",
       " tornado.gen.UnknownKeyError,\n",
       " tornado.gen.LeakedCallbackError,\n",
       " tornado.gen.BadYieldError,\n",
       " tornado.gen.ReturnValueIgnoredError,\n",
       " tornado.gen.Return,\n",
       " jupyter_client.channels.InvalidPortNumber,\n",
       " jupyter_client.localinterfaces.NoIPAddresses,\n",
       " zipfile.BadZipFile,\n",
       " zipfile.LargeZipFile,\n",
       " configparser.Error,\n",
       " entrypoints.BadEntryPoint,\n",
       " entrypoints.NoSuchEntryPoint,\n",
       " jupyter_client.multikernelmanager.DuplicateKernelError,\n",
       " pydoc.ErrorDuringImport,\n",
       " executing.executing.NotOneValueFound,\n",
       " pure_eval.utils.CannotEval,\n",
       " pygments.util.OptionError,\n",
       " bdb.BdbQuit,\n",
       " pdb.Restart,\n",
       " IPython.utils.process.FindCmdError,\n",
       " IPython.utils.path.HomeDirError,\n",
       " IPython.core.profiledir.ProfileDirError,\n",
       " IPython.core.error.IPythonCoreError,\n",
       " IPython.core.error.InputRejected,\n",
       " getopt.GetoptError,\n",
       " pygments.filters.ErrorToken,\n",
       " IPython.core.prefilter.PrefilterError,\n",
       " IPython.core.alias.AliasError,\n",
       " sqlite3.Error,\n",
       " sqlite3.Warning,\n",
       " IPython.core.interactiveshell.SpaceInInput,\n",
       " xml.dom.DOMException,\n",
       " prompt_toolkit.validation.ValidationError,\n",
       " prompt_toolkit.buffer.EditReadOnlyBuffer,\n",
       " prompt_toolkit.buffer._Retry,\n",
       " prompt_toolkit.layout.layout.InvalidLayoutError,\n",
       " prompt_toolkit.renderer.HeightIsUnknownError,\n",
       " parso.parser.ParserSyntaxError,\n",
       " parso.parser.InternalParseError,\n",
       " parso.python.diff._PositionUpdatingFinished,\n",
       " jedi.inference.helpers.SimpleGetItemNotFound,\n",
       " jedi.inference.utils.UncaughtAttributeError,\n",
       " jedi.inference.base_value.HasNoContext,\n",
       " jedi.inference.arguments.ParamIssue,\n",
       " jedi.api.exceptions._JediError,\n",
       " jedi.api.helpers.OnErrorLeaf,\n",
       " jedi.api.environment.InvalidPythonEnvironment,\n",
       " email.errors.MessageError,\n",
       " uu.Error,\n",
       " http.client.HTTPException,\n",
       " IPython.core.magics.code.InteractivelyDefined,\n",
       " IPython.terminal.embed.KillEmbedded,\n",
       " psutil.Error,\n",
       " _psutil_windows.Error,\n",
       " _psutil_windows.TimeoutExpired,\n",
       " _psutil_windows.TimeoutAbandoned,\n",
       " tornado.queues.QueueEmpty,\n",
       " tornado.queues.QueueFull,\n",
       " _pydev_bundle._pydev_saved_modules.DebuggerInitializationError,\n",
       " xml.parsers.expat.ExpatError,\n",
       " xmlrpc.client.Error,\n",
       " pywintypes.error,\n",
       " pywintypes.com_error,\n",
       " pythoncom.internal_error,\n",
       " pkg_resources._vendor.pyparsing.exceptions.ParseBaseException,\n",
       " pkg_resources._vendor.pyparsing.exceptions.RecursiveGrammarException,\n",
       " pkg_resources.ResolutionError,\n",
       " _pydevd_bundle.pydevd_runpy._Error,\n",
       " _pydevd_bundle.pydevd_resolver.UnableToResolveVariableException,\n",
       " _pydev_bundle.pydev_monkey.InvalidTypeInArgsException]"
      ]
     },
     "execution_count": 2,
     "metadata": {},
     "output_type": "execute_result"
    }
   ],
   "source": [
    "Exception.__subclasses__()"
   ]
  },
  {
   "cell_type": "markdown",
   "id": "41fb667f",
   "metadata": {},
   "source": [
    "## Question 3"
   ]
  },
  {
   "cell_type": "code",
   "execution_count": 3,
   "id": "80617b0e",
   "metadata": {},
   "outputs": [
    {
     "name": "stdout",
     "output_type": "stream",
     "text": [
      "<class 'FloatingPointError'>\n",
      "<class 'OverflowError'>\n",
      "<class 'ZeroDivisionError'>\n",
      "<class 'decimal.DecimalException'>\n"
     ]
    },
    {
     "ename": "ZeroDivisionError",
     "evalue": "division by zero",
     "output_type": "error",
     "traceback": [
      "\u001b[1;31m---------------------------------------------------------------------------\u001b[0m",
      "\u001b[1;31mZeroDivisionError\u001b[0m                         Traceback (most recent call last)",
      "Cell \u001b[1;32mIn [3], line 5\u001b[0m\n\u001b[0;32m      3\u001b[0m     \u001b[38;5;28mprint\u001b[39m(i)\n\u001b[0;32m      4\u001b[0m \u001b[38;5;66;03m#Example-ZeroDivisionError\u001b[39;00m\n\u001b[1;32m----> 5\u001b[0m \u001b[38;5;241;43m10\u001b[39;49m\u001b[38;5;241;43m/\u001b[39;49m\u001b[38;5;241;43m0\u001b[39;49m\n",
      "\u001b[1;31mZeroDivisionError\u001b[0m: division by zero"
     ]
    }
   ],
   "source": [
    "# ArithmeticError : Base class for arithmetic errors.\n",
    "for i in ArithmeticError.__subclasses__():\n",
    "    print(i)\n",
    "#Example-ZeroDivisionError\n",
    "10/0"
   ]
  },
  {
   "cell_type": "markdown",
   "id": "b43f60f2",
   "metadata": {},
   "source": [
    "## Question 4"
   ]
  },
  {
   "cell_type": "code",
   "execution_count": 4,
   "id": "1beefb2d",
   "metadata": {},
   "outputs": [
    {
     "name": "stdout",
     "output_type": "stream",
     "text": [
      "[<class 'IndexError'>, <class 'KeyError'>, <class 'encodings.CodecRegistryError'>]\n"
     ]
    },
    {
     "ename": "KeyError",
     "evalue": "5",
     "output_type": "error",
     "traceback": [
      "\u001b[1;31m---------------------------------------------------------------------------\u001b[0m",
      "\u001b[1;31mKeyError\u001b[0m                                  Traceback (most recent call last)",
      "Cell \u001b[1;32mIn [4], line 8\u001b[0m\n\u001b[0;32m      4\u001b[0m \u001b[38;5;66;03m#KeyError\u001b[39;00m\n\u001b[0;32m      5\u001b[0m dic\u001b[38;5;241m=\u001b[39m{\n\u001b[0;32m      6\u001b[0m     \u001b[38;5;241m1\u001b[39m:\u001b[38;5;241m2\u001b[39m\n\u001b[0;32m      7\u001b[0m }\n\u001b[1;32m----> 8\u001b[0m \u001b[43mdic\u001b[49m\u001b[43m[\u001b[49m\u001b[38;5;241;43m5\u001b[39;49m\u001b[43m]\u001b[49m\n",
      "\u001b[1;31mKeyError\u001b[0m: 5"
     ]
    }
   ],
   "source": [
    "# The LookupError exception in Python forms the base class for all exceptions that are raised when an index or a key is not found for a sequence or dictionary respectively.\n",
    "print(LookupError.__subclasses__())\n",
    "\n",
    "#KeyError\n",
    "dic={\n",
    "    1:2\n",
    "}\n",
    "dic[5]"
   ]
  },
  {
   "cell_type": "code",
   "execution_count": 5,
   "id": "9bf0c731",
   "metadata": {},
   "outputs": [
    {
     "ename": "IndexError",
     "evalue": "list index out of range",
     "output_type": "error",
     "traceback": [
      "\u001b[1;31m---------------------------------------------------------------------------\u001b[0m",
      "\u001b[1;31mIndexError\u001b[0m                                Traceback (most recent call last)",
      "Cell \u001b[1;32mIn [5], line 3\u001b[0m\n\u001b[0;32m      1\u001b[0m \u001b[38;5;66;03m#IndexError\u001b[39;00m\n\u001b[0;32m      2\u001b[0m a\u001b[38;5;241m=\u001b[39m[]\n\u001b[1;32m----> 3\u001b[0m \u001b[38;5;28mprint\u001b[39m(\u001b[43ma\u001b[49m\u001b[43m[\u001b[49m\u001b[38;5;241;43m0\u001b[39;49m\u001b[43m]\u001b[49m)\n",
      "\u001b[1;31mIndexError\u001b[0m: list index out of range"
     ]
    }
   ],
   "source": [
    "#IndexError\n",
    "a=[]\n",
    "print(a[0])"
   ]
  },
  {
   "cell_type": "markdown",
   "id": "790d5543",
   "metadata": {},
   "source": [
    "## Question 5"
   ]
  },
  {
   "cell_type": "code",
   "execution_count": 6,
   "id": "ac35d116",
   "metadata": {},
   "outputs": [],
   "source": [
    "# ImportError-Import can't find module, or can't find name in module.\n",
    "# ModuleNotFoundError -When mentioned Module not found."
   ]
  },
  {
   "cell_type": "markdown",
   "id": "b7fe6ed8",
   "metadata": {},
   "source": [
    "## Question 6"
   ]
  },
  {
   "cell_type": "code",
   "execution_count": 7,
   "id": "2cc3516e",
   "metadata": {},
   "outputs": [],
   "source": [
    "#Not to use Exception instead use specific Exception\n",
    "#Use Logging and save Exceptions in Log files"
   ]
  }
 ],
 "metadata": {
  "kernelspec": {
   "display_name": "Python 3 (ipykernel)",
   "language": "python",
   "name": "python3"
  },
  "language_info": {
   "codemirror_mode": {
    "name": "ipython",
    "version": 3
   },
   "file_extension": ".py",
   "mimetype": "text/x-python",
   "name": "python",
   "nbconvert_exporter": "python",
   "pygments_lexer": "ipython3",
   "version": "3.10.6"
  }
 },
 "nbformat": 4,
 "nbformat_minor": 5
}
