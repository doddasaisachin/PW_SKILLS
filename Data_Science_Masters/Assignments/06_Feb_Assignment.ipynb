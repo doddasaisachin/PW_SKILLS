{
 "cells": [
  {
   "cell_type": "markdown",
   "id": "f8dff6b1",
   "metadata": {},
   "source": [
    "## Question 1"
   ]
  },
  {
   "cell_type": "code",
   "execution_count": 1,
   "id": "bad1cb26",
   "metadata": {},
   "outputs": [
    {
     "name": "stdout",
     "output_type": "stream",
     "text": [
      "1033677959746771369708460310528000\n"
     ]
    }
   ],
   "source": [
    "from functools import reduce\n",
    "def func(lis):\n",
    "    res=[]\n",
    "    for ele in lis:\n",
    "        if type(ele)==int:\n",
    "            res.append(ele)\n",
    "        if type(ele)==list or type(ele)==tuple or type(ele)==set:\n",
    "            for i in ele:\n",
    "                if type(i)==int:\n",
    "                    res.append(i)\n",
    "        if type(ele)==dict:\n",
    "            for j in ele.values():\n",
    "                if type(j)==int:\n",
    "                    res.append(j)\n",
    "                if type(j)==list or type(j)==tuple or type(ele)==set:\n",
    "                    for i in j:\n",
    "                        if type(i)==int:\n",
    "                            res.append(i) \n",
    "    return reduce(lambda x,y:x*y ,res)\n",
    "\n",
    "list1 = [1,2,3,4, [44,55,66, True], False, (34,56,78,89,34), {1,2,3,3,2,1}, {1:34, \"key2\": [55, 67, 78, 89], 4: (45, \n",
    "22, 61, 34)}, [56, 'data science'], 'Machine Learning']\n",
    "print(func(list1))"
   ]
  },
  {
   "cell_type": "markdown",
   "id": "2516d853",
   "metadata": {},
   "source": [
    "## Question 2"
   ]
  },
  {
   "cell_type": "code",
   "execution_count": 2,
   "id": "e09bfffc",
   "metadata": {},
   "outputs": [
    {
     "name": "stdout",
     "output_type": "stream",
     "text": [
      "r dzmg gl yvxlnv z wzgz hxrvmgrhg.\n"
     ]
    }
   ],
   "source": [
    "def encrypt(Str):\n",
    "    alpha='a b c d e f g h i j k l m n o p q r s t u v w x y z'\n",
    "    alpha_list=list(alpha.split())\n",
    "    res=''\n",
    "    Str=Str.lower()\n",
    "    for i in Str:\n",
    "        if i not in [' ','.',',']:\n",
    "            for key,value in enumerate(alpha_list):\n",
    "                if i==value:\n",
    "                    break\n",
    "            res=res+alpha_list[len(alpha_list)-key-1]\n",
    "        elif i in [' ','.',',']:\n",
    "            res+=i\n",
    "    return res\n",
    "\n",
    "print(encrypt('I want to become a Data Scientist.'))"
   ]
  }
 ],
 "metadata": {
  "kernelspec": {
   "display_name": "Python 3 (ipykernel)",
   "language": "python",
   "name": "python3"
  },
  "language_info": {
   "codemirror_mode": {
    "name": "ipython",
    "version": 3
   },
   "file_extension": ".py",
   "mimetype": "text/x-python",
   "name": "python",
   "nbconvert_exporter": "python",
   "pygments_lexer": "ipython3",
   "version": "3.10.6"
  }
 },
 "nbformat": 4,
 "nbformat_minor": 5
}
