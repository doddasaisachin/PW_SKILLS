{
 "cells": [
  {
   "cell_type": "markdown",
   "id": "92ce03b7",
   "metadata": {},
   "source": [
    "## 1 Question"
   ]
  },
  {
   "cell_type": "code",
   "execution_count": 1,
   "id": "1ea66ae9",
   "metadata": {
    "scrolled": true
   },
   "outputs": [
    {
     "name": "stdout",
     "output_type": "stream",
     "text": [
      "92\n",
      "Grade A\n"
     ]
    }
   ],
   "source": [
    "percentage=int(input())\n",
    "def Grade(percentage):\n",
    "    if 0<=percentage<=100:\n",
    "        if percentage>90:\n",
    "            print(\"Grade A\")\n",
    "        elif 80<percentage<=90:\n",
    "            print(\"Grade B\")\n",
    "        elif 60<=percentage<=80:\n",
    "            print(\"Grade C\")\n",
    "        else:\n",
    "            print(\"Grade D\")\n",
    "    else:\n",
    "        print(\"percentage should be between 0 and 100\")\n",
    "Grade(percentage)"
   ]
  },
  {
   "cell_type": "markdown",
   "id": "cdf068ae",
   "metadata": {},
   "source": [
    "## 2 Question"
   ]
  },
  {
   "cell_type": "code",
   "execution_count": 2,
   "id": "f0be8331",
   "metadata": {},
   "outputs": [
    {
     "name": "stdout",
     "output_type": "stream",
     "text": [
      "56000\n",
      "pay 10% tax\n"
     ]
    }
   ],
   "source": [
    "cp=int(input())\n",
    "def Tax(cp):\n",
    "    if cp>0:\n",
    "        if cp>100000:\n",
    "            print(\"pay 15% tax\")\n",
    "        elif 50000<cp<=100000:\n",
    "            print(\"pay 10% tax\")\n",
    "        else:\n",
    "            print(\"pay 5% tax\")\n",
    "    else:\n",
    "        print(\"Enter correct cost price of bike\")\n",
    "Tax(cp)"
   ]
  },
  {
   "cell_type": "markdown",
   "id": "02b04318",
   "metadata": {},
   "source": [
    "## 3 Question"
   ]
  },
  {
   "cell_type": "code",
   "execution_count": 3,
   "id": "376ea99a",
   "metadata": {},
   "outputs": [
    {
     "name": "stdout",
     "output_type": "stream",
     "text": [
      "select any one city in given below citys\n",
      "['Delhi', 'Agra', 'Jaipur']\n",
      "delhi\n",
      "Red fort is the Monoment of Delhi\n"
     ]
    }
   ],
   "source": [
    "citys=[\"Delhi\",\"Agra\",\"Jaipur\"]\n",
    "print(\"select any one city in given below citys\")\n",
    "print(citys)\n",
    "city=input().capitalize()\n",
    "if city in citys:\n",
    "    if city==\"Delhi\":\n",
    "        print(\"Red fort is the Monoment of Delhi\")\n",
    "    elif city==\"Agra\":\n",
    "        print(\"Taj Mahal is the Monoment of Agra\")\n",
    "    elif city=='Jaipur':\n",
    "        print(\"Raj Mahal is the Monoment of Jaipur\")\n",
    "else:\n",
    "    print(\"select city only in given below citys\")"
   ]
  },
  {
   "cell_type": "markdown",
   "id": "7f8962f2",
   "metadata": {},
   "source": [
    "## 4 question"
   ]
  },
  {
   "cell_type": "code",
   "execution_count": 4,
   "id": "95f11613",
   "metadata": {},
   "outputs": [
    {
     "name": "stdout",
     "output_type": "stream",
     "text": [
      "3\n"
     ]
    }
   ],
   "source": [
    "def div_by_three(num):\n",
    "    q=num/3\n",
    "    c=1\n",
    "    while q>10:\n",
    "        q=q/3\n",
    "        c=c+1\n",
    "    return c\n",
    "print(div_by_three(100))"
   ]
  },
  {
   "cell_type": "markdown",
   "id": "295e8296",
   "metadata": {},
   "source": [
    "## 5 question"
   ]
  },
  {
   "cell_type": "code",
   "execution_count": 6,
   "id": "50318704",
   "metadata": {},
   "outputs": [
    {
     "name": "stdout",
     "output_type": "stream",
     "text": [
      "enter percentage 96\n",
      "a\n",
      "enter percentage 85\n",
      "b\n",
      "enter percentage 75\n",
      "c\n",
      "enter percentage 68\n",
      "d\n",
      "enter percentage 59\n"
     ]
    }
   ],
   "source": [
    "'''\n",
    "5Q. while loop is used when user need to repeat the process untill the specific(termination) condition is met.\n",
    "For Examle : user needs to print the grades until percentage dont exceed 100 and not less than 60\n",
    "##code:\n",
    "'''\n",
    "def grades(per):\n",
    "    grade=None\n",
    "    if per>90:\n",
    "        grade='a'\n",
    "    elif per>80 and per<90:\n",
    "        grade='b'\n",
    "    elif per>70 and per<80:\n",
    "        grade='c'\n",
    "    elif per>60 and per<70:\n",
    "        grade='d'\n",
    "    return grade\n",
    "    \n",
    "per=int(input('enter percentage '))\n",
    "while per<=100 and per>=60:\n",
    "    print(grades(per))\n",
    "    per=int(input('enter percentage '))"
   ]
  },
  {
   "cell_type": "markdown",
   "id": "a6bee0b9",
   "metadata": {},
   "source": [
    "## 6 Question"
   ]
  },
  {
   "cell_type": "code",
   "execution_count": 7,
   "id": "cb34ba3b",
   "metadata": {},
   "outputs": [
    {
     "name": "stdout",
     "output_type": "stream",
     "text": [
      "enter length6\n",
      "--------------First Pattern----------------\n",
      "******\n",
      "*****\n",
      "****\n",
      "***\n",
      "**\n",
      "*\n",
      "--------------Second Pattern-----------------\n",
      "      \n",
      "      * \n",
      "     *  * \n",
      "    *  *  * \n",
      "   *  *  *  * \n",
      "  *  *  *  *  * \n",
      " *  *  *  *  *  * \n",
      "--------------Third Pattern-----------------\n",
      "\n",
      "1  \n",
      "2  3  \n",
      "3  4  5  \n",
      "4  5  6  7  \n",
      "5  6  7  8  9  \n",
      "6  7  8  9  10  11  \n"
     ]
    }
   ],
   "source": [
    "num=int(input('enter length'))\n",
    "i=num\n",
    "print(\"--------------First Pattern----------------\")\n",
    "while i>0:\n",
    "    j=i\n",
    "    while j>0:\n",
    "        print('*',end=\"\")\n",
    "        j=j-1\n",
    "    print(\"\")\n",
    "    i=i-1\n",
    "print(\"--------------Second Pattern-----------------\")\n",
    "i=0\n",
    "while i<=num:\n",
    "    j=0\n",
    "    k=num-i\n",
    "    print(k*' ',end=\"\")    \n",
    "    while j<i:\n",
    "        print(' * ',end=\"\")\n",
    "        j+=1\n",
    "    print(\"\")\n",
    "    i+=1\n",
    "print(\"--------------Third Pattern-----------------\")\n",
    "i=0\n",
    "while i<=num:\n",
    "    j=0\n",
    "    k=num-i\n",
    "    while j<i:\n",
    "        print(i+j,\" \",end=\"\")\n",
    "        j+=1\n",
    "    print(\"\")\n",
    "    i+=1"
   ]
  },
  {
   "cell_type": "markdown",
   "id": "65da6fd9",
   "metadata": {},
   "source": [
    "## 7 & 8 Question"
   ]
  },
  {
   "cell_type": "code",
   "execution_count": 8,
   "id": "4ac9e155",
   "metadata": {},
   "outputs": [
    {
     "name": "stdout",
     "output_type": "stream",
     "text": [
      "10\n",
      "9\n",
      "8\n",
      "7\n",
      "6\n",
      "5\n",
      "4\n",
      "3\n",
      "2\n",
      "1\n"
     ]
    }
   ],
   "source": [
    "num=10\n",
    "Break=True\n",
    "while Break:\n",
    "    if num>0:\n",
    "        print(num)\n",
    "        num-=1\n",
    "    else:\n",
    "        Break=False"
   ]
  }
 ],
 "metadata": {
  "kernelspec": {
   "display_name": "Python 3 (ipykernel)",
   "language": "python",
   "name": "python3"
  },
  "language_info": {
   "codemirror_mode": {
    "name": "ipython",
    "version": 3
   },
   "file_extension": ".py",
   "mimetype": "text/x-python",
   "name": "python",
   "nbconvert_exporter": "python",
   "pygments_lexer": "ipython3",
   "version": "3.10.6"
  }
 },
 "nbformat": 4,
 "nbformat_minor": 5
}
