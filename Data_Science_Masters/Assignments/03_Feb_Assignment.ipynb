{
 "cells": [
  {
   "cell_type": "markdown",
   "id": "3328a369",
   "metadata": {},
   "source": [
    "## 1 Question"
   ]
  },
  {
   "cell_type": "code",
   "execution_count": 1,
   "id": "24e4ed64",
   "metadata": {},
   "outputs": [
    {
     "data": {
      "text/plain": [
       "[1, 3, 5, 7, 9, 11, 13, 15, 17, 19, 21, 23]"
      ]
     },
     "execution_count": 1,
     "metadata": {},
     "output_type": "execute_result"
    }
   ],
   "source": [
    "'''\n",
    "keyword used in creating function is \"def\"\n",
    "'''\n",
    "def test():\n",
    "    l=[]\n",
    "    for i in range(1,25):\n",
    "        if i%2!=0:\n",
    "            l.append(i)\n",
    "    return l\n",
    "test()"
   ]
  },
  {
   "cell_type": "markdown",
   "id": "ace96357",
   "metadata": {},
   "source": [
    "## 2 Question"
   ]
  },
  {
   "cell_type": "code",
   "execution_count": 2,
   "id": "6158dd75",
   "metadata": {
    "scrolled": true
   },
   "outputs": [
    {
     "name": "stdout",
     "output_type": "stream",
     "text": [
      "----Example for *ARGS----\n",
      "43\n",
      "----Example for **KWARGS----\n",
      "first_name=sai\n",
      "middle_name=sachin\n",
      "last_name=Dodda\n"
     ]
    }
   ],
   "source": [
    "'''when we are unsure about the number of arguments to\n",
    "pass in the functions'''\n",
    "''' **kwargs take parameters in form of key,value pair.\n",
    "'''\n",
    "#for example code to add all numbers that are being given as parameter\n",
    "print('----Example for *ARGS----')\n",
    "def add(*args):\n",
    "    c=0\n",
    "    for i in args:\n",
    "        c+=i\n",
    "    return c\n",
    "print(add(8,2,4,5,6,9,7,2))\n",
    "print('----Example for **KWARGS----')\n",
    "#for example to print name like(firstname,lastname,middlename)\n",
    "def print_name(**kwargs):\n",
    "    for key,value in kwargs.items():\n",
    "        print(f\"{key}={value}\")\n",
    "    return\n",
    "print_name(first_name='sai',middle_name='sachin',last_name='Dodda')"
   ]
  },
  {
   "cell_type": "markdown",
   "id": "8d65f213",
   "metadata": {},
   "source": [
    "## 3 Question"
   ]
  },
  {
   "cell_type": "code",
   "execution_count": 3,
   "id": "14be5acd",
   "metadata": {
    "scrolled": true
   },
   "outputs": [
    {
     "name": "stdout",
     "output_type": "stream",
     "text": [
      "2 4 6 8 10 "
     ]
    }
   ],
   "source": [
    "'''\n",
    "An Iterator is an object that can be used to loop through collections,\n",
    "like List,Tuples..etc\n",
    "method used : iter()\n",
    "'''\n",
    "given_list=[2,4,6,8,10,12,14,16,18,20]\n",
    "iter_list=iter(given_list)\n",
    "c=0\n",
    "for i in iter_list:\n",
    "    if c<5:\n",
    "        print(i,end=\" \")\n",
    "        c+=1\n",
    "    else:\n",
    "        break"
   ]
  },
  {
   "cell_type": "markdown",
   "id": "7e502bd1",
   "metadata": {},
   "source": [
    "## 4 Question"
   ]
  },
  {
   "cell_type": "code",
   "execution_count": 4,
   "id": "3c4a7520",
   "metadata": {},
   "outputs": [
    {
     "name": "stdout",
     "output_type": "stream",
     "text": [
      "1 2 3 4 5 6 7 8 9 10 11 12 13 14 15 16 17 18 19 20 21 22 23 24 25 "
     ]
    }
   ],
   "source": [
    "'''Genreator is used to get return type of iterable object which avoid Space and Time consumption\n",
    "Yield is a return type of Generator Function.Stores ireable object\n",
    "'''\n",
    "#exapmle for n Natural Numbers\n",
    "def natural_numbers(n):\n",
    "    for i in range(1,n+1):\n",
    "        yield i\n",
    "obj=natural_numbers(25)\n",
    "for i in obj:\n",
    "    print(i,end=\" \")"
   ]
  },
  {
   "cell_type": "markdown",
   "id": "f8f2149b",
   "metadata": {},
   "source": [
    "## 5 Question"
   ]
  },
  {
   "cell_type": "code",
   "execution_count": 5,
   "id": "3147b673",
   "metadata": {},
   "outputs": [],
   "source": [
    "def prime_numbers(n):\n",
    "    prime_list=[]\n",
    "    for i in range(2,n):\n",
    "        for j in range(2,i):\n",
    "            if i%j==0:\n",
    "                break\n",
    "        else:\n",
    "            prime_list.append(i)\n",
    "    return prime_list"
   ]
  },
  {
   "cell_type": "code",
   "execution_count": 6,
   "id": "b244f31f",
   "metadata": {
    "scrolled": true
   },
   "outputs": [
    {
     "name": "stdout",
     "output_type": "stream",
     "text": [
      "[2, 3, 5, 7, 11, 13, 17, 19, 23, 29, 31, 37, 41, 43, 47, 53, 59, 61, 67, 71, 73, 79, 83, 89, 97, 101, 103, 107, 109, 113, 127, 131, 137, 139, 149, 151, 157, 163, 167, 173, 179, 181, 191, 193, 197, 199, 211, 223, 227, 229, 233, 239, 241, 251, 257, 263, 269, 271, 277, 281, 283, 293, 307, 311, 313, 317, 331, 337, 347, 349, 353, 359, 367, 373, 379, 383, 389, 397, 401, 409, 419, 421, 431, 433, 439, 443, 449, 457, 461, 463, 467, 479, 487, 491, 499, 503, 509, 521, 523, 541, 547, 557, 563, 569, 571, 577, 587, 593, 599, 601, 607, 613, 617, 619, 631, 641, 643, 647, 653, 659, 661, 673, 677, 683, 691, 701, 709, 719, 727, 733, 739, 743, 751, 757, 761, 769, 773, 787, 797, 809, 811, 821, 823, 827, 829, 839, 853, 857, 859, 863, 877, 881, 883, 887, 907, 911, 919, 929, 937, 941, 947, 953, 967, 971, 977, 983, 991, 997]\n"
     ]
    }
   ],
   "source": [
    "print(prime_numbers(1000))"
   ]
  },
  {
   "cell_type": "code",
   "execution_count": 7,
   "id": "9cf26b60",
   "metadata": {
    "scrolled": true
   },
   "outputs": [
    {
     "name": "stdout",
     "output_type": "stream",
     "text": [
      "2 3 5 7 11 13 17 19 23 29 31 37 41 43 47 53 59 61 67 71 "
     ]
    }
   ],
   "source": [
    "iter_list=iter(prime_numbers(1000))\n",
    "for i in range(20):\n",
    "    print(next(iter_list),end=\" \")"
   ]
  }
 ],
 "metadata": {
  "kernelspec": {
   "display_name": "Python 3 (ipykernel)",
   "language": "python",
   "name": "python3"
  },
  "language_info": {
   "codemirror_mode": {
    "name": "ipython",
    "version": 3
   },
   "file_extension": ".py",
   "mimetype": "text/x-python",
   "name": "python",
   "nbconvert_exporter": "python",
   "pygments_lexer": "ipython3",
   "version": "3.10.6"
  }
 },
 "nbformat": 4,
 "nbformat_minor": 5
}
